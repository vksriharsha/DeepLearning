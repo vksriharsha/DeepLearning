{
  "nbformat": 4,
  "nbformat_minor": 0,
  "metadata": {
    "colab": {
      "name": "Pyrpipe_workshop.ipynb",
      "provenance": [],
      "collapsed_sections": [],
      "authorship_tag": "ABX9TyNJ/fl6WGK74xnZFFtV27pJ",
      "include_colab_link": true
    },
    "kernelspec": {
      "name": "python3",
      "display_name": "Python 3"
    }
  },
  "cells": [
    {
      "cell_type": "markdown",
      "metadata": {
        "id": "view-in-github",
        "colab_type": "text"
      },
      "source": [
        "<a href=\"https://colab.research.google.com/github/vksriharsha/DeepLearning/blob/master/Pyrpipe_workshop.ipynb\" target=\"_parent\"><img src=\"https://colab.research.google.com/assets/colab-badge.svg\" alt=\"Open In Colab\"/></a>"
      ]
    },
    {
      "cell_type": "markdown",
      "metadata": {
        "id": "o4LHbVkRY5fo"
      },
      "source": [
        "# Pyrpipe Workshop\n",
        "\n",
        "Demo text"
      ]
    },
    {
      "cell_type": "code",
      "metadata": {
        "id": "bq4Sn4vfZECd"
      },
      "source": [
        "import pandas"
      ],
      "execution_count": 1,
      "outputs": []
    }
  ]
}