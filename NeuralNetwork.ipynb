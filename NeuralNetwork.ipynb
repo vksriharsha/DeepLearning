{
  "nbformat": 4,
  "nbformat_minor": 0,
  "metadata": {
    "colab": {
      "name": "NeuralNetwork.ipynb",
      "provenance": [],
      "collapsed_sections": [],
      "authorship_tag": "ABX9TyOFt79+AtOdmo4lsy4i1Ejh",
      "include_colab_link": true
    },
    "kernelspec": {
      "name": "python3",
      "display_name": "Python 3"
    }
  },
  "cells": [
    {
      "cell_type": "markdown",
      "metadata": {
        "id": "view-in-github",
        "colab_type": "text"
      },
      "source": [
        "<a href=\"https://colab.research.google.com/github/vksriharsha/DeepLearning/blob/master/NeuralNetwork.ipynb\" target=\"_parent\"><img src=\"https://colab.research.google.com/assets/colab-badge.svg\" alt=\"Open In Colab\"/></a>"
      ]
    },
    {
      "cell_type": "markdown",
      "metadata": {
        "id": "NRu0hlyV99HY",
        "colab_type": "text"
      },
      "source": [
        "# Fully Connected Neural Network\n",
        "This notebook has the implementation of a fully connected neural network."
      ]
    },
    {
      "cell_type": "code",
      "metadata": {
        "id": "fLqlnQdi9akz",
        "colab_type": "code",
        "colab": {
          "base_uri": "https://localhost:8080/",
          "height": 51
        },
        "outputId": "9dc1c841-60fd-406d-faf5-f7e18a5058ef"
      },
      "source": [
        "import numpy as np\n",
        "import matplotlib as plt\n",
        "\n",
        "def neuralnetwork(X_train, Y_train, X_test, Y_test, layers, num_iterations, learning_rate):\n",
        "  #initializing weights for all layers\n",
        "  W = [0]*(len(layers)-1)\n",
        "  for i in range(0,len(layers)-1):\n",
        "    W[i] = np.zeros((layers[i],layers[i+1]))\n",
        "  \n",
        "  #initialize biases\n",
        "  b = [0]*(len(layers)-1)\n",
        "  for j in range(0,len(layers)-1):\n",
        "    b[j] = np.ones((layers[j+1],1))\n",
        "    \n",
        "  #forward pass\n",
        "  \n",
        "\n",
        "  \n",
        "neuralnetwork([1,2,3],[1,2],[3,4],[5,3],[6,4,2],22,3)\n"
      ],
      "execution_count": 20,
      "outputs": [
        {
          "output_type": "stream",
          "text": [
            "(4, 1)\n",
            "(2, 1)\n"
          ],
          "name": "stdout"
        }
      ]
    }
  ]
}