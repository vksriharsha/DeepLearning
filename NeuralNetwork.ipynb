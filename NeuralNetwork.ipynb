{
  "nbformat": 4,
  "nbformat_minor": 0,
  "metadata": {
    "colab": {
      "name": "NeuralNetwork.ipynb",
      "provenance": [],
      "collapsed_sections": [],
      "toc_visible": true,
      "authorship_tag": "ABX9TyMGk44OnQ0YmKYO6lURNVH7",
      "include_colab_link": true
    },
    "kernelspec": {
      "name": "python3",
      "display_name": "Python 3"
    }
  },
  "cells": [
    {
      "cell_type": "markdown",
      "metadata": {
        "id": "view-in-github",
        "colab_type": "text"
      },
      "source": [
        "<a href=\"https://colab.research.google.com/github/vksriharsha/DeepLearning/blob/master/NeuralNetwork.ipynb\" target=\"_parent\"><img src=\"https://colab.research.google.com/assets/colab-badge.svg\" alt=\"Open In Colab\"/></a>"
      ]
    },
    {
      "cell_type": "markdown",
      "metadata": {
        "id": "NRu0hlyV99HY",
        "colab_type": "text"
      },
      "source": [
        "# Fully Connected Neural Network\n",
        "This notebook has the implementation of a fully connected neural network."
      ]
    },
    {
      "cell_type": "code",
      "metadata": {
        "id": "fLqlnQdi9akz",
        "colab_type": "code",
        "colab": {
          "base_uri": "https://localhost:8080/",
          "height": 51
        },
        "outputId": "1995ebb2-3f63-42f3-a2fa-b4504bcaa287"
      },
      "source": [
        "import numpy as np\n",
        "import matplotlib as plt\n",
        "\n",
        "def sigmoid(z):\n",
        "  s = 1/(1+np.exp(-1*z))\n",
        "  return s\n",
        "\n",
        "def neuralnetwork(X_train, Y_train, X_test, Y_test, layers, num_iterations, learning_rate):\n",
        "  #initializing weights for all layers\n",
        "  W = [0]*(len(layers)-1)\n",
        "  for i in range(0,len(layers)-1):\n",
        "    W[i] = np.random.rand(layers[i],layers[i+1])\n",
        "  \n",
        "  #initialize biases\n",
        "  b = [0]*(len(layers)-1)\n",
        "  for j in range(0,len(layers)-1):\n",
        "    b[j] = np.random.rand(layers[j+1],1)\n",
        "    \n",
        "  #forward pass\n",
        "  z = [0]*(len(layers))\n",
        "  a = [0]*(len(layers))\n",
        "  a[0] = X_train[0]\n",
        "  for(x in range(0,X_train.shape[0])):\n",
        "    for i in range(0, len(layers)-1):\n",
        "      z[i+1] = np.dot(W[i].T,a[i])\n",
        "      a[i+1] = sigmoid(z[i+1])\n",
        "      print(a[i+1])\n",
        "  \n",
        "  \n",
        "neuralnetwork([[3,34,2],[22,4,21],[49,432,12],[38,45,13]],[2,4,4,7],[3,4,8],[0],[3,4,1],22,3)\n"
      ],
      "execution_count": 14,
      "outputs": [
        {
          "output_type": "stream",
          "text": [
            "[0.97224699 0.95164484 0.89912614 0.9645317 ]\n",
            "[0.82564199]\n"
          ],
          "name": "stdout"
        }
      ]
    }
  ]
}