{
  "nbformat": 4,
  "nbformat_minor": 0,
  "metadata": {
    "kernelspec": {
      "display_name": "Python 3",
      "language": "python",
      "name": "python3"
    },
    "language_info": {
      "codemirror_mode": {
        "name": "ipython",
        "version": 3
      },
      "file_extension": ".py",
      "mimetype": "text/x-python",
      "name": "python",
      "nbconvert_exporter": "python",
      "pygments_lexer": "ipython3",
      "version": "3.6.5"
    },
    "colab": {
      "name": "1_Boolean_Expressions.ipynb",
      "provenance": [],
      "collapsed_sections": [],
      "include_colab_link": true
    }
  },
  "cells": [
    {
      "cell_type": "markdown",
      "metadata": {
        "id": "view-in-github",
        "colab_type": "text"
      },
      "source": [
        "<a href=\"https://colab.research.google.com/github/vksriharsha/DeepLearning/blob/master/1_Boolean_Expressions.ipynb\" target=\"_parent\"><img src=\"https://colab.research.google.com/assets/colab-badge.svg\" alt=\"Open In Colab\"/></a>"
      ]
    },
    {
      "cell_type": "markdown",
      "metadata": {
        "id": "QruCTGuJJjJI"
      },
      "source": [
        "# Boolean expressions\n",
        "Boolean expressions a.k.a logical expressions are expressions which evaluate to either *True* or *False*. In python 3, *True* and *False* are keywords. A boolean expression can be written using a combination of comparision and boolean operators. Boolean expressions are used in if-else statements to conditionally execute blocks in a program.\n",
        "\n",
        "Any variable in python can be mapped to a *True* or *False* value using the constructor function *bool*. *bool* takes any python value and return corresponding *True* or *False* value. 0, empty collections, *None* and *False* have *False* values. Most other values are *True*."
      ]
    },
    {
      "cell_type": "code",
      "metadata": {
        "id": "XDqPifaRJjJK",
        "outputId": "88e8cee2-e2c9-42c3-d7c7-2e0f494c7ce6"
      },
      "source": [
        "print(bool(True))\n",
        "print(bool(False))\n",
        "print(bool(1))\n",
        "print(bool(0))\n",
        "print(bool([]))\n",
        "print(bool([False]))\n",
        "print(bool({}))"
      ],
      "execution_count": null,
      "outputs": [
        {
          "output_type": "stream",
          "text": [
            "True\n",
            "False\n",
            "True\n",
            "False\n",
            "False\n",
            "True\n",
            "False\n"
          ],
          "name": "stdout"
        }
      ]
    },
    {
      "cell_type": "markdown",
      "metadata": {
        "id": "Vhgc4lYrJjJL"
      },
      "source": [
        "# Comparison  and logical operators\n",
        "\n",
        "The comparision operators in python are used to compare values of two objects and return *True* or *False*. The comparision result depends on the type of the object. There are a number of comparision operators in python. The table below summarizes the comparision operators\n",
        "\n",
        "| Operator | Description              |\n",
        "|---------:|--------------------------|\n",
        "| ==       | Equals to                |\n",
        "| !=       | Not equal to             |\n",
        "| >        | Greater than             |\n",
        "| >=       | Greater than or equal to |\n",
        "| <        | Less than                |\n",
        "| <=       | Less than or equal to    |\n",
        "| is       | Is the same object       |\n",
        "| in       | Membership test |\n",
        "\n",
        "The logical operators can combine logical expressions to make decisions based on multiple conditions. The table below summarizes the logical operators\n",
        "\n",
        "| Operator | Description     |\n",
        "|---------:|-----------------|\n",
        "| or       | Boolean OR      |\n",
        "| and      | Boolean AND     |\n",
        "| not      | Boolean NOT     |\n",
        "\n",
        "\n",
        "\n"
      ]
    },
    {
      "cell_type": "code",
      "metadata": {
        "id": "2KYjvv0QJjJM",
        "outputId": "c3a22d55-ea87-4f2f-8dda-74730a5ffa94"
      },
      "source": [
        "'a'=='a'"
      ],
      "execution_count": null,
      "outputs": [
        {
          "output_type": "execute_result",
          "data": {
            "text/plain": [
              "True"
            ]
          },
          "metadata": {
            "tags": []
          },
          "execution_count": 2
        }
      ]
    },
    {
      "cell_type": "code",
      "metadata": {
        "id": "Pjmj6uXHJjJM",
        "outputId": "f9f3a61d-301c-4893-c8c8-1bf539d7322e"
      },
      "source": [
        "2!=2"
      ],
      "execution_count": null,
      "outputs": [
        {
          "output_type": "execute_result",
          "data": {
            "text/plain": [
              "False"
            ]
          },
          "metadata": {
            "tags": []
          },
          "execution_count": 3
        }
      ]
    },
    {
      "cell_type": "code",
      "metadata": {
        "id": "fj4IuV-GJjJN",
        "outputId": "8a6b4c62-7d59-4383-e696-20f9630a4b3e"
      },
      "source": [
        "2>-100"
      ],
      "execution_count": null,
      "outputs": [
        {
          "output_type": "execute_result",
          "data": {
            "text/plain": [
              "True"
            ]
          },
          "metadata": {
            "tags": []
          },
          "execution_count": 4
        }
      ]
    },
    {
      "cell_type": "code",
      "metadata": {
        "id": "pwSgDStmJjJN",
        "outputId": "de87592f-8ccf-4c6b-f31e-3d8d2d89355d"
      },
      "source": [
        "3>=3"
      ],
      "execution_count": null,
      "outputs": [
        {
          "output_type": "execute_result",
          "data": {
            "text/plain": [
              "True"
            ]
          },
          "metadata": {
            "tags": []
          },
          "execution_count": 5
        }
      ]
    },
    {
      "cell_type": "code",
      "metadata": {
        "id": "tsvAqJhGJjJO",
        "outputId": "96957ea4-33cc-4b9b-b2cf-c8d3f9985d32"
      },
      "source": [
        "5<8"
      ],
      "execution_count": null,
      "outputs": [
        {
          "output_type": "execute_result",
          "data": {
            "text/plain": [
              "True"
            ]
          },
          "metadata": {
            "tags": []
          },
          "execution_count": 6
        }
      ]
    },
    {
      "cell_type": "code",
      "metadata": {
        "id": "ArYs0oy_JjJP",
        "outputId": "e6f61e4c-4670-4678-f365-0ccf2b1e50ee"
      },
      "source": [
        "5<=8"
      ],
      "execution_count": null,
      "outputs": [
        {
          "output_type": "execute_result",
          "data": {
            "text/plain": [
              "True"
            ]
          },
          "metadata": {
            "tags": []
          },
          "execution_count": 7
        }
      ]
    },
    {
      "cell_type": "code",
      "metadata": {
        "id": "fB1IarlGJjJQ",
        "outputId": "f2dc62e3-ab37-4974-b889-d367378cfc84"
      },
      "source": [
        "x=['1','2']\n",
        "y=['1','2']\n",
        "x is y\n"
      ],
      "execution_count": null,
      "outputs": [
        {
          "output_type": "execute_result",
          "data": {
            "text/plain": [
              "False"
            ]
          },
          "metadata": {
            "tags": []
          },
          "execution_count": 8
        }
      ]
    },
    {
      "cell_type": "code",
      "metadata": {
        "id": "t2pGudKeJjJQ"
      },
      "source": [
        "y=x\n"
      ],
      "execution_count": null,
      "outputs": []
    },
    {
      "cell_type": "code",
      "metadata": {
        "id": "CZW6j9AZJjJR",
        "outputId": "2f088d9e-a1d9-42df-8b7b-fa84b2be9c3b"
      },
      "source": [
        "x is y"
      ],
      "execution_count": null,
      "outputs": [
        {
          "output_type": "execute_result",
          "data": {
            "text/plain": [
              "True"
            ]
          },
          "metadata": {
            "tags": []
          },
          "execution_count": 10
        }
      ]
    },
    {
      "cell_type": "code",
      "metadata": {
        "id": "KYk99YN8JjJR"
      },
      "source": [
        "str1 = 'abc'\n",
        "str2= 'abc'"
      ],
      "execution_count": null,
      "outputs": []
    },
    {
      "cell_type": "code",
      "metadata": {
        "id": "RmKmeVGPJjJR",
        "outputId": "c080ba22-a505-4b12-f7f0-f1c04852fda5"
      },
      "source": [
        "str1 == str2"
      ],
      "execution_count": null,
      "outputs": [
        {
          "output_type": "execute_result",
          "data": {
            "text/plain": [
              "True"
            ]
          },
          "metadata": {
            "tags": []
          },
          "execution_count": 12
        }
      ]
    },
    {
      "cell_type": "code",
      "metadata": {
        "id": "mnnx6gUNJjJS",
        "outputId": "db56439a-0d36-4fc3-a80a-6eae02d8753e"
      },
      "source": [
        "str1 is str2"
      ],
      "execution_count": null,
      "outputs": [
        {
          "output_type": "execute_result",
          "data": {
            "text/plain": [
              "True"
            ]
          },
          "metadata": {
            "tags": []
          },
          "execution_count": 13
        }
      ]
    },
    {
      "cell_type": "code",
      "metadata": {
        "id": "fB1lSxrvJjJS",
        "outputId": "328a4e58-8712-4618-d43a-bf601a7ddc7a"
      },
      "source": [
        "2 in [1,2,3]"
      ],
      "execution_count": null,
      "outputs": [
        {
          "output_type": "execute_result",
          "data": {
            "text/plain": [
              "True"
            ]
          },
          "metadata": {
            "tags": []
          },
          "execution_count": 14
        }
      ]
    },
    {
      "cell_type": "code",
      "metadata": {
        "id": "u4-XkDXQJjJT",
        "outputId": "715a1abe-0d2b-4ca4-9166-b0edf81bdc86"
      },
      "source": [
        "1<2 and 1<3"
      ],
      "execution_count": null,
      "outputs": [
        {
          "output_type": "execute_result",
          "data": {
            "text/plain": [
              "True"
            ]
          },
          "metadata": {
            "tags": []
          },
          "execution_count": 15
        }
      ]
    },
    {
      "cell_type": "code",
      "metadata": {
        "id": "jbxN9wLsJjJT",
        "outputId": "5c49f460-c1ac-417f-835d-0a5f8b157693"
      },
      "source": [
        "1<2 or 2>3"
      ],
      "execution_count": null,
      "outputs": [
        {
          "output_type": "execute_result",
          "data": {
            "text/plain": [
              "True"
            ]
          },
          "metadata": {
            "tags": []
          },
          "execution_count": 16
        }
      ]
    },
    {
      "cell_type": "code",
      "metadata": {
        "id": "28MoGOnWJjJU",
        "outputId": "25d8d0a1-d2be-403e-d94a-de845aa4156d"
      },
      "source": [
        "not 1<2"
      ],
      "execution_count": null,
      "outputs": [
        {
          "output_type": "execute_result",
          "data": {
            "text/plain": [
              "False"
            ]
          },
          "metadata": {
            "tags": []
          },
          "execution_count": 17
        }
      ]
    },
    {
      "cell_type": "code",
      "metadata": {
        "id": "YBuNWTKDJjJU"
      },
      "source": [
        ""
      ],
      "execution_count": null,
      "outputs": []
    }
  ]
}