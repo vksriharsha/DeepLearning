{
  "nbformat": 4,
  "nbformat_minor": 0,
  "metadata": {
    "coursera": {
      "course_slug": "neural-networks-deep-learning",
      "graded_item_id": "c4HO0",
      "launcher_item_id": "lSYZM"
    },
    "kernelspec": {
      "display_name": "Python 3",
      "language": "python",
      "name": "python3"
    },
    "language_info": {
      "codemirror_mode": {
        "name": "ipython",
        "version": 3
      },
      "file_extension": ".py",
      "mimetype": "text/x-python",
      "name": "python",
      "nbconvert_exporter": "python",
      "pygments_lexer": "ipython3",
      "version": "3.6.0"
    },
    "colab": {
      "name": "HW2_Deep_Neural_Network_Part_2_v1_KumaraSriHarshaVAJJHALA.ipynb",
      "provenance": [],
      "private_outputs": true,
      "collapsed_sections": [],
      "toc_visible": true,
      "include_colab_link": true
    },
    "accelerator": "GPU"
  },
  "cells": [
    {
      "cell_type": "markdown",
      "metadata": {
        "id": "view-in-github",
        "colab_type": "text"
      },
      "source": [
        "<a href=\"https://colab.research.google.com/github/vksriharsha/DeepLearning/blob/master/HW2_Deep_Neural_Network_Part_2_v1_KumaraSriHarshaVAJJHALA.ipynb\" target=\"_parent\"><img src=\"https://colab.research.google.com/assets/colab-badge.svg\" alt=\"Open In Colab\"/></a>"
      ]
    },
    {
      "cell_type": "markdown",
      "metadata": {
        "id": "g2NP1Jm6grOA"
      },
      "source": [
        "#Homework 2, Part 2\n",
        "When you download the file into your Google Drive, please insert your name and student ID number here by replacing my name in the fields below. You will turn in a notebook with the coding updates and answer the questions/perform the studies in Part 9.\n",
        "\n",
        "Kumara Sri Harsha VAJJHALA   ID: 571966414\n"
      ]
    },
    {
      "cell_type": "markdown",
      "metadata": {
        "id": "MD7n4BGOkbim"
      },
      "source": [
        "# Optimizing a Deep Neural Network\n",
        "\n",
        "Welcome to your second assignment (part 2 of 2)! You have previously built and trained a deep Neural Network with L layers. In this part of the assignment, you will have improve the performance of the systems from Part 1. \n",
        "\n",
        "In this notebook, you will adapt the functions from HW 2, part 1 to optimize system performance. You will implement the following regularization and optimization methods:\n",
        "\n",
        "*   L2 regularization (section 4)\n",
        "*   Momentum (section 5)\n",
        "*   Adam (section 6)\n",
        "\n",
        "**After this assignment you will be able to:**\n",
        "- Know where to change your model network to implement L2 and L1 regularization.\n",
        "- Split your training data into mini-batches for improving training\n",
        "- Implement momentum algorithm from RMSprop to speed up convergence\n",
        "\n",
        "**Notation**:\n",
        "- Superscript $[l]$ denotes a quantity associated with the $l^{th}$ layer. \n",
        "    - Example: $a^{[L]}$ is the $L^{th}$ layer activation. $W^{[L]}$ and $b^{[L]}$ are the $L^{th}$ layer parameters.\n",
        "- Superscript $(i)$ denotes a quantity associated with the $i^{th}$ example. \n",
        "    - Example: $x^{(i)}$ is the $i^{th}$ training example.\n",
        "- Lowerscript $i$ denotes the $i^{th}$ entry of a vector.\n",
        "    - Example: $a^{[l]}_i$ denotes the $i^{th}$ entry of the $l^{th}$ layer's activations).\n"
      ]
    },
    {
      "cell_type": "markdown",
      "metadata": {
        "id": "13widXLVt4_Z"
      },
      "source": [
        "## 1.0 - Mount Google Drive and import packages"
      ]
    },
    {
      "cell_type": "code",
      "metadata": {
        "id": "LTeRqVILtLgG"
      },
      "source": [
        "# Mount your local google drive\n",
        "from google.colab import drive\n",
        "drive.mount('/content/gdrive')"
      ],
      "execution_count": null,
      "outputs": []
    },
    {
      "cell_type": "markdown",
      "metadata": {
        "id": "EIYbAFUppXPM"
      },
      "source": [
        "***Import utility files into Google Colab***\n",
        "dnn_utilities.py provides unit test cases for testing the files"
      ]
    },
    {
      "cell_type": "markdown",
      "metadata": {
        "id": "5eAckZ0skbir"
      },
      "source": [
        "### 1.1 - Packages\n",
        "\n",
        "Now, let's first import all the packages that you will need during this assignment. \n",
        "- [numpy](www.numpy.org) is the main package for scientific computing with Python.\n",
        "- [matplotlib](http://matplotlib.org) is a library to plot graphs in Python.\n",
        "- Import utility files into Google Colab dnn_utilities.py provides the files to run a deep network, be sure to set the file path properly!\n",
        "- np.random.seed(1) is used to keep all the random function calls consistent. It will help us grade your work. Please don't change the seed. "
      ]
    },
    {
      "cell_type": "code",
      "metadata": {
        "id": "HEBJf8T6kbit"
      },
      "source": [
        "import numpy as np\n",
        "import pickle\n",
        "import matplotlib.pyplot as plt\n",
        "import math\n",
        "# set filepath to dnn_utilities on your Google Drive\n",
        "!cp \"/content/gdrive/My Drive/EE526/EE526HW2/HW2_2_utils_v1.py\" .\n",
        "from HW2_2_utils_v1 import *\n",
        "# set filepath to testCases_HW2_2.py on your Google Drive\n",
        "!cp \"/content/gdrive/My Drive/EE526/EE526HW2/testCases_HW2_2.py\" .\n",
        "from testCases_HW2_2 import *\n",
        "\n",
        "%matplotlib inline\n",
        "plt.rcParams['figure.figsize'] = (5.0, 4.0) # set default size of plots\n",
        "plt.rcParams['image.interpolation'] = 'nearest'\n",
        "plt.rcParams['image.cmap'] = 'gray'\n",
        "\n",
        "\n",
        "np.random.seed(1)"
      ],
      "execution_count": null,
      "outputs": []
    },
    {
      "cell_type": "markdown",
      "metadata": {
        "id": "oJmx89lskbi5"
      },
      "source": [
        "## 2 - Outline of the Assignment\n",
        "\n",
        "You have been provided with a working copy of the functions that you used in part 1 of this assignment.  Here is an outline of this assignment, you will:\n",
        "\n",
        "- Figure out which functions that will have to be changed to implement regularization, Adam Initialization, and momentum.\n",
        "- Review how minibatches are implemented in the main loop of the function.\n",
        "- Implement L2 regularization in the cost function and in the backwards propagation.\n",
        "- Test out the effect of different values of lambda on overfitting in system performance.\n",
        "- Implement momentum in the backwards propagation code.\n",
        "- See if momentum speeds up training in this case.\n",
        "- Implement Adam in the backwards propagation code.\n",
        "- See if Adam speeds up training in this case.\n",
        "\n",
        "Optional: what is the best system for separating dogs from non-dogs in terms of accuracy? Look at training and testing data and show that the system is not overfitting the data.\n",
        "\n"
      ]
    },
    {
      "cell_type": "markdown",
      "metadata": {
        "id": "_dXH3nbBs1ij"
      },
      "source": [
        "###2.1 Read in and process the data set"
      ]
    },
    {
      "cell_type": "code",
      "metadata": {
        "id": "6aaPKv3Utkkq"
      },
      "source": [
        "#Set path for your system\n",
        "with open('/content/gdrive/My Drive/EE526/EE526HW2/data_dog_nondog.pickle', 'rb') as handle:\n",
        "    data_dict = pickle.load(handle)\n",
        "#x_train, y_train, x_test, y_test = load_data(data_dict)\n",
        "    x_train = data_dict['x_train']\n",
        "    y_train = data_dict['y_train']\n",
        "    x_test = data_dict['x_test']\n",
        "    y_test = data_dict['y_test']\n",
        "\n",
        "    x_train = x_train.T\n",
        "    y_train = y_train[:,None].T\n",
        "    x_test = x_test.T\n",
        "    y_test = y_test[:,None].T\n",
        "\n",
        "    \n",
        "    "
      ],
      "execution_count": null,
      "outputs": []
    },
    {
      "cell_type": "markdown",
      "metadata": {
        "id": "-gdbw-Y0wXNy"
      },
      "source": [
        "###2.2 Standardize the data\n",
        "\n",
        "One common preprocessing step in machine learning is to center and standardize your dataset, meaning that you subtract the mean of the whole numpy array from each example, and then divide each example by the standard deviation of the whole numpy array. This normalization helps to scale all the data into the same range. In this case, we do not have to take the mean across all features (pixels) separately as all of the variables have the same range of 0 to 255."
      ]
    },
    {
      "cell_type": "code",
      "metadata": {
        "id": "8NOf4kxjwV4F"
      },
      "source": [
        "mean_x = np.mean(x_train)\n",
        "std_x = np.std(x_train)\n",
        "print(\"mean=\",mean_x,\"  std=\",std_x)\n",
        "train_set_x = (x_train-mean_x)/std_x\n",
        "test_set_x = (x_test-mean_x)/std_x\n",
        "print(\"new mean=\",np.mean(train_set_x),\"  new std=\", np.std(train_set_x))"
      ],
      "execution_count": null,
      "outputs": []
    },
    {
      "cell_type": "markdown",
      "metadata": {
        "id": "lJawGOMUkbi6"
      },
      "source": [
        "## 3 - Initialization and Helper Functions\n",
        "\n",
        "You first need to review the helper functions that will initialize the parameters for your model and that compute the activation functions. These functions will generalize this initialization process to $L$ layers.\n"
      ]
    },
    {
      "cell_type": "markdown",
      "metadata": {
        "id": "QDcQ9YlvMlQc"
      },
      "source": [
        "###3.1 Helper functions\n",
        "As before the activation functions are provided.\n",
        "```python\n",
        "def sigmoid(Z):\n",
        "    Implements the sigmoid activation in numpy\n",
        "    \n",
        "    Arguments:\n",
        "    Z -- numpy array of any shape   \n",
        "    Returns:\n",
        "    A -- output of sigmoid(z), same shape as Z\n",
        "    cache -- returns Z as well, useful during backpropagation\n",
        "\n",
        "def relu(Z):\n",
        "    Implement the RELU function.\n",
        "\n",
        "    Arguments:\n",
        "    Z -- Output of the linear layer, of any shape\n",
        "    Returns:\n",
        "    A -- Post-activation parameter, of the same shape as Z\n",
        "    cache -- a python dictionary containing \"A\" ; stored for computing the backward pass efficiently\n",
        "\n",
        "def relu_backward(dA, cache):\n",
        "\n",
        "    Implement the backward propagation for a single RELU unit.\n",
        "\n",
        "    Arguments:\n",
        "    dA -- post-activation gradient, of any shape\n",
        "    cache -- 'Z' where we store for computing backward propagation efficiently\n",
        "    Returns:\n",
        "    dZ -- Gradient of the cost with respect to Z\n",
        " \n",
        "def sigmoid_backward(dA, cache):\n",
        "    Implement the backward propagation for a single SIGMOID unit.\n",
        "    \n",
        "    Arguments:\n",
        "    dA -- post-activation gradient, of any shape\n",
        "    cache -- 'Z' where we store for computing backward propagation efficiently\n",
        "    Returns:\n",
        "    dZ -- Gradient of the cost with respect to Z\n",
        "```"
      ]
    },
    {
      "cell_type": "markdown",
      "metadata": {
        "id": "0j76WS9UkbjE"
      },
      "source": [
        "### 3.2 - L-layer Neural Network Initialization\n",
        "\n",
        "The initialization for a deeper L-layer neural network is complicated because there are many more weight matrices and bias vectors. \n",
        "```python\n",
        "def initialize_parameters_deep_he(layer_dims):\n",
        "    Arguments:\n",
        "    layer_dims -- python array (list) containing the dimensions of each layer in our network\n",
        "    \n",
        "    Returns:\n",
        "    parameters -- python dictionary containing your parameters \"W1\", \"b1\", ..., \"WL\", \"bL\":\n",
        "                    Wl -- weight matrix of shape (layer_dims[l], layer_dims[l-1])\n",
        "                    bl -- bias vector of shape (layer_dims[l], 1)\n",
        "```\n"
      ]
    },
    {
      "cell_type": "markdown",
      "metadata": {
        "id": "1_ppYyUFkbjL"
      },
      "source": [
        "###3.3 - Forward propagation routines\n",
        "\n",
        "The three functions are\n",
        "- LINEAR\n",
        "- LINEAR -> ACTIVATION where ACTIVATION will be either ReLU or Sigmoid. \n",
        "- [LINEAR -> RELU] $\\times$ (L-1) -> LINEAR -> SIGMOID (whole model)\n"
      ]
    },
    {
      "cell_type": "markdown",
      "metadata": {
        "id": "QLb1NkGZPTwu"
      },
      "source": [
        "**Linear Forward**\n",
        "```python\n",
        "def linear_forward(A, W, b):\n",
        "    \"\"\"\n",
        "    Implement the linear part of a layer's forward propagation.\n",
        "\n",
        "    Arguments:\n",
        "    A -- activations from previous layer (or input data): (size of previous layer, number of examples)\n",
        "    W -- weights matrix: numpy array of shape (size of current layer, size of previous layer)\n",
        "    b -- bias vector, numpy array of shape (size of the current layer, 1)\n",
        "\n",
        "    Returns:\n",
        "    Z -- the input of the activation function, also called pre-activation parameter \n",
        "    cache -- a python dictionary containing \"A\", \"W\" and \"b\" ; stored for computing the backward pass efficiently\n",
        " ```"
      ]
    },
    {
      "cell_type": "markdown",
      "metadata": {
        "id": "zaA6Bai7QLmr"
      },
      "source": [
        "**Linear -> Activation**\n",
        "```python\n",
        "def linear_activation_forward(A_prev, W, b, activation):\n",
        "    \"\"\"\n",
        "    Implement the forward propagation for the LINEAR->ACTIVATION layer\n",
        "\n",
        "    Arguments:\n",
        "    A_prev -- activations from previous layer (or input data): (size of previous layer, number of examples)\n",
        "    W -- weights matrix: numpy array of shape (size of current layer, size of previous layer)\n",
        "    b -- bias vector, numpy array of shape (size of the current layer, 1)\n",
        "    activation -- the activation to be used in this layer, stored as a text string: \"sigmoid\" or \"relu\"\n",
        "\n",
        "    Returns:\n",
        "    A -- the output of the activation function, also called the post-activation value \n",
        "    cache -- a python dictionary containing \"linear_cache\" and \"activation_cache\";\n",
        "             stored for computing the backward pass efficiently\n"
      ]
    },
    {
      "cell_type": "markdown",
      "metadata": {
        "id": "ZjDdSMfLPucf"
      },
      "source": [
        "**L_Layer Model for Feedforward Step**\n",
        "```python\n",
        "def L_model_forward(X, parameters):\n",
        "    \"\"\"\n",
        "    Implement forward propagation for the [LINEAR->RELU]*(L-1)->LINEAR->SIGMOID computation\n",
        "    \n",
        "    Arguments:\n",
        "    X -- data, numpy array of shape (input size, number of examples)\n",
        "    parameters -- output of initialize_parameters_deep()\n",
        "    \n",
        "    Returns:\n",
        "    AL -- last post-activation value\n",
        "    caches -- list of caches containing:\n",
        "                every cache of linear_relu_forward() (there are L-1 of them, indexed from 0 to L-2)\n",
        "                the cache of linear_sigmoid_forward() (there is one, indexed L-1)\n",
        " "
      ]
    },
    {
      "cell_type": "markdown",
      "metadata": {
        "id": "iBPou05okbjb"
      },
      "source": [
        "Now you have a full forward propagation that takes the input X and outputs a row vector $A^{[L]}$ containing your predictions. It also records all intermediate values in \"caches\". Using $A^{[L]}$, you can compute the cost of your predictions."
      ]
    },
    {
      "cell_type": "markdown",
      "metadata": {
        "id": "pj6bAUFiPpNo"
      },
      "source": [
        "###3.4 Backward propagation\n",
        "Recall that with the L_model_forward function, at each iteration, you stored a cache which contains (X,W,b, and z). In the back propagation module, you  use those variables to compute the gradients. Therefore, in the L_model_backward function, you will iterate through all the hidden layers backward, starting from layer  𝐿 . On each step, you will use the cached values for layer  𝑙  to backpropagate through layer  𝑙 ."
      ]
    },
    {
      "cell_type": "markdown",
      "metadata": {
        "id": "5rEPJ_IPP_jY"
      },
      "source": [
        "**Linear Backward**\n",
        "\n",
        "def linear_backward(dZ, cache):\n",
        "\n",
        "    \"\"\"\n",
        "    Implement the linear portion of backward propagation for a single layer (layer l)\n",
        "\n",
        "    Arguments:\n",
        "    dZ -- Gradient of the cost with respect to the linear output (of current layer l)\n",
        "    cache -- tuple of values (A_prev, W, b) coming from the forward propagation in the current layer\n",
        "    lambd -- regularization factor, if 0, no regularization\n",
        "\n",
        "    Returns:\n",
        "    dA_prev -- Gradient of the cost with respect to the activation (of the previous layer l-1), same shape as A_prev\n",
        "    dW -- Gradient of the cost with respect to W (current layer l), same shape as W\n",
        "    db -- Gradient of the cost with respect to b (current layer l), same shape as b\n",
        "    \"\"\""
      ]
    },
    {
      "cell_type": "markdown",
      "metadata": {
        "id": "OcApS68GQU0T"
      },
      "source": [
        "**linear_activation_backward**\n",
        "\n",
        " \"\"\"\n",
        "    Implement the backward propagation for the LINEAR->ACTIVATION layer.\n",
        "    \n",
        "    Arguments:\n",
        "    dA -- post-activation gradient for current layer l \n",
        "    cache -- tuple of values (linear_cache, activation_cache) we store for computing backward propagation efficiently\n",
        "    activation -- the activation to be used in this layer, stored as a text string: \"sigmoid\" or \"relu\"\n",
        "    \n",
        "    Returns:\n",
        "    dA_prev -- Gradient of the cost with respect to the activation (of the previous layer l-1), same shape as A_prev\n",
        "    dW -- Gradient of the cost with respect to W (current layer l), same shape as W\n",
        "    db -- Gradient of the cost with respect to b (current layer l), same shape as b\n",
        "    \"\"\""
      ]
    },
    {
      "cell_type": "markdown",
      "metadata": {
        "id": "aMe6TYswQlQL"
      },
      "source": [
        "**L_model_backward**\n",
        "\n",
        "def L_model_backward(AL, Y, caches):\n",
        "\n",
        "    \"\"\"\n",
        "    Implement the backward propagation for the [LINEAR->RELU] * (L-1) -> LINEAR -> SIGMOID group\n",
        "    \n",
        "    Arguments:\n",
        "    AL -- probability vector, output of the forward propagation (L_model_forward())\n",
        "    Y -- true \"label\" vector (containing 0 if non-cat, 1 if cat)\n",
        "    caches -- list of caches containing:\n",
        "                every cache of linear_activation_forward() with \"relu\" (there are (L-1) or them, indexes from 0 to L-2)\n",
        "                the cache of linear_activation_forward() with \"sigmoid\" (there is one, index L-1)\n",
        "    \n",
        "    Returns:\n",
        "    grads -- A dictionary with the gradients\n",
        "             grads[\"dA\" + str(l)] = ... \n",
        "             grads[\"dW\" + str(l)] = ...\n",
        "             grads[\"db\" + str(l)] = ... \n",
        "    \"\"\""
      ]
    },
    {
      "cell_type": "markdown",
      "metadata": {
        "id": "cBrSng1SVexU"
      },
      "source": [
        "## 4 - L2 Regularization\n",
        "In this section, you will change the pieces needed for implementing Regularization. In L2 regularization, you change the cost function to include the Frobenius Norm of the weight matrices. This is a clue as to which routines need to change implement regularization."
      ]
    },
    {
      "cell_type": "markdown",
      "metadata": {
        "id": "4y7wFQDskbjb"
      },
      "source": [
        "###4.1 - Cost function with Regularization\n",
        "\n",
        "This code computes the cross-entropy cost $J$, using the following formula: $$-\\frac{1}{m} \\sum\\limits_{i = 1}^{m} (y^{(i)}\\log\\left(a^{[L] (i)}\\right) + (1-y^{(i)})\\log\\left(1- a^{[L](i)}\\right))+ \\frac{\\lambda}{2m}\\sum\\limits_{i = 1}^{L} ||W^{[l]}||_{F}^{2} \\tag{1}$$\n"
      ]
    },
    {
      "cell_type": "code",
      "metadata": {
        "id": "2WjAabCYkbjb"
      },
      "source": [
        "### Graded function\n",
        "\n",
        "def compute_cost_regularization(AL, Y, parameters, lambd = 0):\n",
        "    \"\"\"\n",
        "    Implement the cost function defined by equation (7).\n",
        "\n",
        "    Arguments:\n",
        "    AL -- probability vector corresponding to your label predictions, shape (1, number of examples)\n",
        "    Y -- true \"label\" vector (for example: containing 0 if non-dog, 1 if dog), shape (1, number of examples)\n",
        "    lambd -- weight for regularization, if <=0, then do not apply\n",
        "\n",
        "    Returns:\n",
        "    cost -- cross-entropy + L2 regularization cost\n",
        "    \"\"\"\n",
        "    m = Y.shape[1] # number of inputs\n",
        "    L = len(parameters) // 2\n",
        "    \n",
        "    assert(Y.shape == AL.shape)\n",
        "\n",
        "    # Compute cross entropy loss from aL and y.\n",
        "    cross_entropy_cost = - (1./m) * (np.dot(Y,np.log(AL).T) + np.dot(1-Y, np.log(1-AL).T))\n",
        "    cross_entropy_cost = np.squeeze(cross_entropy_cost)\n",
        "    \n",
        "    L2_regularization_cost = 0.0\n",
        "\n",
        "    if (lambd > 0):\n",
        "      for l in range(L):\n",
        "        ### enter code for computing L2 regularization\n",
        "        L2_regularization_cost = L2_regularization_cost+ (lambd/(2*m))*(np.linalg.norm(parameters[\"W\"+str(l+1)], ord='fro')**2)\n",
        "        ### end code for computing L2 regularization\n",
        "        \n",
        "    cost = L2_regularization_cost + cross_entropy_cost\n",
        "\n",
        "    cost = np.squeeze(cost)      # To make sure your cost's shape is what we expect (e.g. this turns [[17]] into 17).\n",
        "    assert(cost.shape == ())\n",
        "    \n",
        "    return cost"
      ],
      "execution_count": null,
      "outputs": []
    },
    {
      "cell_type": "code",
      "metadata": {
        "id": "Dxyod3VYkbjd"
      },
      "source": [
        "AL, Y, parameters = compute_cost_regularization_test_case()\n",
        "cost = compute_cost_regularization(AL, Y, parameters, lambd = 0.5)\n",
        "print(\"cost = \" + str(cost))\n",
        "\n",
        "cost = compute_cost_regularization(AL, Y, parameters, lambd = 0.0)\n",
        "print(\"cost no regularization = \" + str(cost))\n"
      ],
      "execution_count": null,
      "outputs": []
    },
    {
      "cell_type": "markdown",
      "metadata": {
        "id": "qJLP0rjNkbjf"
      },
      "source": [
        "**Expected Output**:\n",
        "\n",
        "**cost**  2.522423306766089\n",
        "\n",
        "**cost no regularization**  1.6025016047573226"
      ]
    },
    {
      "cell_type": "markdown",
      "metadata": {
        "id": "Q957M_zWWcD-"
      },
      "source": [
        "###4.2 - Updating dW with L2 Regularization\n",
        "\n",
        "Regularization: We will use the update_parameters routine to update the weight values under regularization. \n",
        "\n",
        "Exercise: Now, implement the parameters update with L2 regularization. The regularization update rule is, for l=1,...,L :\n",
        "$$ W^{[l]} += \\alpha dW^{[l]} + \\alpha \\frac{\\lambda}{m} W^{[l]}\\tag{2}$$\n",
        "where L is the number of layers, $\\alpha$ is the learning rate and $\\frac{\\lambda}{m}$ is the L2 rate divided by the number of input samples. All parameters should be stored in the parameters dictionary. Note that the update equation for b does not change.\n",
        "\n"
      ]
    },
    {
      "cell_type": "code",
      "metadata": {
        "id": "vd1EeCN7J9tF"
      },
      "source": [
        "### Graded Function\n",
        "\n",
        "def update_parameters_with_regularization(parameters, grads, learning_rate, lambd_div_m):\n",
        "    \"\"\"\n",
        "    Update parameters using gradient descent and regularization\n",
        "    \n",
        "    Arguments:\n",
        "    parameters -- python dictionary containing your parameters \n",
        "    grads -- python dictionary containing your gradients, output of L_model_backward\n",
        "    learning_rate -- learning rate for function\n",
        "    lambd_div_m -- lambda/m\n",
        "\n",
        "    Returns:\n",
        "    parameters -- python dictionary containing your updated parameters \n",
        "                  parameters[\"W\" + str(l)] = ... \n",
        "                  parameters[\"b\" + str(l)] = ...\n",
        "    \"\"\"\n",
        "    \n",
        "    L = len(parameters) // 2 # number of layers in the neural network\n",
        "\n",
        "    for l in range(L):\n",
        "        ### start here\n",
        "        parameters[\"W\" + str(l+1)] = parameters[\"W\" + str(l+1)] - (learning_rate * grads[\"dW\" + str(l + 1)]) + (learning_rate * (lambd_div_m) * parameters[\"W\" + str(l+1)] )\n",
        "        ###end here\n",
        "        parameters[\"b\" + str(l+1)] = parameters[\"b\" + str(l+1)] - (learning_rate * grads[\"db\" + str(l + 1)]) + (learning_rate * (lambd_div_m) * parameters[\"b\" + str(l+1)] )\n",
        "        \n",
        "    return parameters\n"
      ],
      "execution_count": null,
      "outputs": []
    },
    {
      "cell_type": "markdown",
      "metadata": {
        "id": "eVt1JgyLkbjg"
      },
      "source": [
        "## 5 - Implementing Momentum\n",
        "\n",
        "Just like with regularization, you will implement functions for updating backpropagarion to apply momentum. Remember that back propagation is used to calculate the gradient of the loss function with respect to the parameters. \n",
        "\n",
        "Because mini-batch gradient descent makes a parameter update after seeing just a subset of examples, the direction of the update has some variance, and so the path taken by mini-batch gradient descent will \"oscillate\" toward convergence. Using momentum can reduce these oscillations.\n",
        "\n",
        "Momentum takes into account the past gradients to smooth out the update. We will store the 'direction' of the previous gradients in the variable v. Formally, this will be the exponentially weighted average of the gradient on previous steps. You can also think of v  as the \"velocity\" of a ball rolling downhill, building up speed (and momentum) according to the direction of the gradient/slope of the hill."
      ]
    },
    {
      "cell_type": "markdown",
      "metadata": {
        "id": "y4ILCKOhkbjg"
      },
      "source": [
        "### 5.1 - initialize_momentum\n",
        "\n",
        "**Exercise**:\n",
        "Initialize the velocity. The velocity, v, is a python dictionary that needs to be initialized with arrays of zeros. Its keys are the same as those in the grads dictionary, that is: for l=1,...,L:\n",
        "\n",
        "v[\"dW\" + str(l+1)] = ... #(numpy array of zeros with the same shape as parameters[\"W\" + str(l+1)])\n",
        "\n",
        "v[\"db\" + str(l+1)] = ... #(numpy array of zeros with the same shape as parameters[\"b\" + str(l+1)])\n",
        "\n",
        "Note that the iterator l starts at 0 in the for loop while the first parameters are v[\"dW1\"] and v[\"db1\"] (that's a \"one\" on the superscript). This is why we are shifting l to l+1 in the for loop."
      ]
    },
    {
      "cell_type": "code",
      "metadata": {
        "id": "iI3D7bskkbjk"
      },
      "source": [
        "def initialize_momentum(parameters):\n",
        "    \"\"\"\n",
        "    Initializes the velocity as a python dictionary with:\n",
        "                - keys: \"dW1\", \"db1\", ..., \"dWL\", \"dbL\" \n",
        "                - values: numpy arrays of zeros of the same shape as the corresponding gradients/parameters.\n",
        "    Arguments:\n",
        "    parameters -- python dictionary containing your parameters.\n",
        "                    parameters['W' + str(l)] = Wl\n",
        "                    parameters['b' + str(l)] = bl\n",
        "    \n",
        "    Returns:\n",
        "    v -- python dictionary containing the current velocity.\n",
        "                    v['dW' + str(l)] = velocity of dWl\n",
        "                    v['db' + str(l)] = velocity of dbl\n",
        "    \"\"\"\n",
        "    \n",
        "    L = len(parameters) // 2 # number of layers in the neural networks\n",
        "    v = {}\n",
        "    \n",
        "    # Initialize velocity\n",
        "    for l in range(L):\n",
        "        v[\"dW\" + str(l+1)] = np.zeros( parameters[\"W\" + str(l+1)].shape )\n",
        "        v[\"db\" + str(l+1)] = np.zeros( parameters[\"b\" + str(l+1)].shape )\n",
        "        \n",
        "    return v"
      ],
      "execution_count": null,
      "outputs": []
    },
    {
      "cell_type": "code",
      "metadata": {
        "id": "HyGjRuKdZvis"
      },
      "source": [
        "parameters = initialize_momentum_test_case()\n",
        "\n",
        "v = initialize_momentum(parameters)\n",
        "print(\"v[\\\"dW1\\\"] =\\n\" + str(v[\"dW1\"]))\n",
        "print(\"v[\\\"db1\\\"] =\\n\" + str(v[\"db1\"]))\n",
        "print(\"v[\\\"dW2\\\"] =\\n\" + str(v[\"dW2\"]))\n",
        "print(\"v[\\\"db2\\\"] =\\n\" + str(v[\"db2\"]))"
      ],
      "execution_count": null,
      "outputs": []
    },
    {
      "cell_type": "markdown",
      "metadata": {
        "id": "ap3nH_KQkbjm"
      },
      "source": [
        "** Expected Output**:\n",
        "\n",
        "v[\"dW1\"] =\n",
        "[[ 0.  0.  0.]\n",
        " [ 0.  0.  0.]]\n",
        "\n",
        "v[\"db1\"] =\n",
        "[[ 0.]\n",
        " [ 0.]]\n",
        "\n",
        "v[\"dW2\"] =\n",
        "[[ 0.  0.  0.]\n",
        " [ 0.  0.  0.]\n",
        " [ 0.  0.  0.]]\n",
        "\n",
        "v[\"db2\"] =\n",
        "[[ 0.]\n",
        " [ 0.]\n",
        " [ 0.]]\n"
      ]
    },
    {
      "cell_type": "markdown",
      "metadata": {
        "id": "VK_SK_YEgbX4"
      },
      "source": [
        "###5.2 Update parameters using momentum\n",
        "\n",
        "Exercise: Now, implement the parameters update with momentum. The momentum update rule is, for  l=1,...,L :\n",
        "\n",
        "\\begin{cases}\n",
        "v_{dW^{[l]}} = \\beta v_{dW^{[l]}} + (1 - \\beta) dW^{[l]} \\\\\n",
        "W^{[l]} = W^{[l]} - \\alpha v_{dW^{[l]}}\n",
        "\\end{cases} \n",
        "\n",
        "\\begin{cases}\n",
        "v_{db^{[l]}} = \\beta v_{db^{[l]}} + (1 - \\beta) db^{[l]} \\\\\n",
        "b^{[l]} = b^{[l]} - \\alpha v_{db^{[l]}} \n",
        "\\end{cases}\n",
        "\n",
        "where L is the number of layers, β is the momentum and α is the learning rate. All parameters should be stored in the parameters dictionary. Note that the iterator l starts at 0 in the for loop while the first parameters are $W^{[1]}$\n",
        "and $b^{[1]}$ (that's a \"one\" on the superscript). So you will need to shift l to l+1 when coding."
      ]
    },
    {
      "cell_type": "code",
      "metadata": {
        "id": "qXiyVlUDh3SH"
      },
      "source": [
        "# GRADED FUNCTION: update_parameters_with_momentum\n",
        "\n",
        "def update_parameters_with_momentum(parameters, grads, v, beta, learning_rate):\n",
        "    \"\"\"\n",
        "    Update parameters using Momentum\n",
        "    \n",
        "    Arguments:\n",
        "    parameters -- python dictionary containing your parameters:\n",
        "                    parameters['W' + str(l)] = Wl\n",
        "                    parameters['b' + str(l)] = bl\n",
        "    grads -- python dictionary containing your gradients for each parameters:\n",
        "                    grads['dW' + str(l)] = dWl\n",
        "                    grads['db' + str(l)] = dbl\n",
        "    v -- python dictionary containing the current velocity:\n",
        "                    v['dW' + str(l)] = ...\n",
        "                    v['db' + str(l)] = ...\n",
        "    beta -- the momentum hyperparameter, scalar\n",
        "    learning_rate -- the learning rate, scalar\n",
        "    \n",
        "    Returns:\n",
        "    parameters -- python dictionary containing your updated parameters \n",
        "    v -- python dictionary containing your updated velocities\n",
        "    \"\"\"\n",
        "\n",
        "    L = len(parameters) // 2 # number of layers in the neural networks\n",
        "    \n",
        "    # Momentum update for each parameter\n",
        "    for l in range(L):\n",
        "        \n",
        "        ### START CODE HERE ### (approx. 4 lines)\n",
        "        # compute velocities\n",
        "        v[\"dW\" + str(l+1)] = beta * v[\"dW\" + str(l+1)] + (1 - beta) * grads['dW' + str(l+1)]\n",
        "        v[\"db\" + str(l+1)] = beta * v[\"db\" + str(l+1)] + (1 - beta) * grads['db' + str(l+1)]\n",
        "        # update parameters\n",
        "        parameters[\"W\" + str(l+1)] = parameters[\"W\" + str(l+1)] - learning_rate * v[\"dW\" + str(l+1)]\n",
        "        parameters[\"b\" + str(l+1)] = parameters[\"b\" + str(l+1)] - learning_rate * v[\"db\" + str(l+1)]\n",
        "        ### END CODE HERE ###\n",
        "        \n",
        "    return parameters, v"
      ],
      "execution_count": null,
      "outputs": []
    },
    {
      "cell_type": "code",
      "metadata": {
        "id": "8wgXpgrOh8dH"
      },
      "source": [
        "parameters, grads, v = update_parameters_with_momentum_test_case()\n",
        "\n",
        "parameters, v = update_parameters_with_momentum(parameters, grads, v, beta = 0.9, learning_rate = 0.01)\n",
        "print(\"W1 = \\n\" + str(parameters[\"W1\"]))\n",
        "print(\"b1 = \\n\" + str(parameters[\"b1\"]))\n",
        "print(\"W2 = \\n\" + str(parameters[\"W2\"]))\n",
        "print(\"b2 = \\n\" + str(parameters[\"b2\"]))\n",
        "print(\"v[\\\"dW1\\\"] = \\n\" + str(v[\"dW1\"]))\n",
        "print(\"v[\\\"db1\\\"] = \\n\" + str(v[\"db1\"]))\n",
        "print(\"v[\\\"dW2\\\"] = \\n\" + str(v[\"dW2\"]))\n",
        "print(\"v[\\\"db2\\\"] = v\" + str(v[\"db2\"]))"
      ],
      "execution_count": null,
      "outputs": []
    },
    {
      "cell_type": "markdown",
      "metadata": {
        "id": "QdqSlyUvjctO"
      },
      "source": [
        "**Expected Output**:\n",
        "\n",
        "```\n",
        "W1 = \n",
        "[[ 1.62544598 -0.61290114 -0.52907334]\n",
        " [-1.07347112  0.86450677 -2.30085497]]\n",
        "b1 = \n",
        "[[ 1.74493465]\n",
        " [-0.76027113]]\n",
        "W2 = \n",
        "[[ 0.31930698 -0.24990073  1.4627996 ]\n",
        " [-2.05974396 -0.32173003 -0.38320915]\n",
        " [ 1.13444069 -1.0998786  -0.1713109 ]]\n",
        "b2 = \n",
        "[[-0.87809283]\n",
        " [ 0.04055394]\n",
        " [ 0.58207317]]\n",
        "v[\"dW1\"] = \n",
        "[[-0.11006192  0.11447237  0.09015907]\n",
        " [ 0.05024943  0.09008559 -0.06837279]]\n",
        "v[\"db1\"] = \n",
        "[[-0.01228902]\n",
        " [-0.09357694]]\n",
        "v[\"dW2\"] = \n",
        "[[-0.02678881  0.05303555 -0.06916608]\n",
        " [-0.03967535 -0.06871727 -0.08452056]\n",
        " [-0.06712461 -0.00126646 -0.11173103]]\n",
        "v[\"db2\"] = v[[ 0.02344157]\n",
        " [ 0.16598022]\n",
        " [ 0.07420442]]\n",
        "```"
      ]
    },
    {
      "cell_type": "markdown",
      "metadata": {
        "id": "nkAm_LNCijkY"
      },
      "source": [
        "**Note**:\n",
        "- The velocity is initialized with zeros. So the algorithm will take a few iterations to \"build up\" velocity and start to take bigger steps.\n",
        "- If $\\beta = 0$, then this just becomes standard gradient descent without momentum. \n",
        "\n",
        "**How do you choose $\\beta$?**\n",
        "\n",
        "- The larger the momentum $\\beta$ is, the smoother the update because the more we take the past gradients into account. But if $\\beta$ is too big, it could also smooth out the updates too much. \n",
        "- Common values for $\\beta$ range from 0.8 to 0.999. $\\beta = 0.9$ is often a reasonable default. \n",
        "- Tuning the optimal $\\beta$ for your model might need trying several values to see what works best in term of reducing the value of the cost function $J$. \n",
        "\n",
        "<font color='blue'>\n",
        "**Remember**\n",
        "\n",
        "<font color='blue'>\n",
        "- Momentum takes past gradients into account to smooth out the steps of gradient descent. It can be applied with batch gradient descent, mini-batch gradient descent or stochastic gradient descent.\n",
        "- You have to tune a momentum hyperparameter $\\beta$ and a learning rate $\\alpha$."
      ]
    },
    {
      "cell_type": "markdown",
      "metadata": {
        "id": "LpTPffKniQcg"
      },
      "source": [
        "##6 - Implementing Adam Initialization\n",
        "Adam is one of the most effective optimization algorithms for training neural networks. It combines ideas from RMSProp (described in lecture) and Momentum.\n",
        "\n",
        "**How does Adam work?**\n",
        "\n",
        "1.   It calculates an exponentially weighted average of past gradients, and stores it in variables $v$(before bias correction) and $v^{corrected}$\n",
        "  (with bias correction).\n",
        "2.   It calculates an exponentially weighted average of the squares of the past gradients, and stores it in variables $s$ (before bias correction) and $s^{corrected}$ (with bias correction).\n",
        "3.   It updates parameters in a direction based on combining information from \"1\" and \"2\".\n",
        "\n"
      ]
    },
    {
      "cell_type": "markdown",
      "metadata": {
        "id": "uGYbiXO3k09e"
      },
      "source": [
        "###6.1 Initializing Adam\n",
        "\n",
        "Exercise: Initialize the Adam variables  $v,s$\n",
        "  which keep track of the past information.\n",
        "\n",
        "Instructions: The variables $v,s$ are python dictionaries that need to be initialized with arrays of zeros. Their keys are the same as for grads. \n",
        "```python\n",
        "for l=1,...,L:\n",
        "  v[\"dW\" + str(l+1)] = ... #(numpy array of zeros with the same shape as parameters[\"W\" + str(l+1)])\n",
        "  v[\"db\" + str(l+1)] = ... #(numpy array of zeros with the same shape as parameters[\"b\" + str(l+1)])\n",
        "  s[\"dW\" + str(l+1)] = ... #(numpy array of zeros with the same shape as parameters[\"W\" + str(l+1)])\n",
        "  s[\"db\" + str(l+1)] = ... #(numpy array of zeros with the same shape as parameters[\"b\" + str(l+1)])\n",
        "```"
      ]
    },
    {
      "cell_type": "code",
      "metadata": {
        "id": "1YSZvhvzluoJ"
      },
      "source": [
        "def initialize_adam(parameters) :\n",
        "    \"\"\"\n",
        "    Initializes v and s as two python dictionaries with:\n",
        "                - keys: \"dW1\", \"db1\", ..., \"dWL\", \"dbL\" \n",
        "                - values: numpy arrays of zeros of the same shape as the corresponding gradients/parameters.\n",
        "    \n",
        "    Arguments:\n",
        "    parameters -- python dictionary containing your parameters.\n",
        "                    parameters[\"W\" + str(l)] = Wl\n",
        "                    parameters[\"b\" + str(l)] = bl\n",
        "    \n",
        "    Returns: \n",
        "    v -- python dictionary that will contain the exponentially weighted average of the gradient.\n",
        "                    v[\"dW\" + str(l)] = ...\n",
        "                    v[\"db\" + str(l)] = ...\n",
        "    s -- python dictionary that will contain the exponentially weighted average of the squared gradient.\n",
        "                    s[\"dW\" + str(l)] = ...\n",
        "                    s[\"db\" + str(l)] = ...\n",
        "\n",
        "    \"\"\"\n",
        "    \n",
        "    L = len(parameters) // 2 # number of layers in the neural networks\n",
        "    v = {}\n",
        "    s = {}\n",
        "    \n",
        "    # Initialize v, s. Input: \"parameters\". Outputs: \"v, s\".\n",
        "    for l in range(L):\n",
        "        v[\"dW\" + str(l+1)] = np.zeros(parameters['W' + str(l+1)].shape)\n",
        "        v[\"db\" + str(l+1)] = np.zeros(parameters['b' + str(l+1)].shape)\n",
        "        s[\"dW\" + str(l+1)] = np.zeros(parameters['W' + str(l+1)].shape)\n",
        "        s[\"db\" + str(l+1)] = np.zeros(parameters['b' + str(l+1)].shape)\n",
        "    \n",
        "    return v, s"
      ],
      "execution_count": null,
      "outputs": []
    },
    {
      "cell_type": "code",
      "metadata": {
        "id": "GZ0oyM1Hl80w"
      },
      "source": [
        "parameters = initialize_adam_test_case()\n",
        "\n",
        "v, s = initialize_adam(parameters)\n",
        "print(\"v[\\\"dW1\\\"] = \\n\" + str(v[\"dW1\"]))\n",
        "print(\"v[\\\"db1\\\"] = \\n\" + str(v[\"db1\"]))\n",
        "print(\"v[\\\"dW2\\\"] = \\n\" + str(v[\"dW2\"]))\n",
        "print(\"v[\\\"db2\\\"] = \\n\" + str(v[\"db2\"]))\n",
        "print(\"s[\\\"dW1\\\"] = \\n\" + str(s[\"dW1\"]))\n",
        "print(\"s[\\\"db1\\\"] = \\n\" + str(s[\"db1\"]))\n",
        "print(\"s[\\\"dW2\\\"] = \\n\" + str(s[\"dW2\"]))\n",
        "print(\"s[\\\"db2\\\"] = \\n\" + str(s[\"db2\"]))"
      ],
      "execution_count": null,
      "outputs": []
    },
    {
      "cell_type": "markdown",
      "metadata": {
        "id": "VGEpqxdGmBYk"
      },
      "source": [
        "**Expected Output**:\n",
        "\n",
        "```\n",
        "v[\"dW1\"] = \n",
        "[[ 0.  0.  0.]\n",
        " [ 0.  0.  0.]]\n",
        "v[\"db1\"] = \n",
        "[[ 0.]\n",
        " [ 0.]]\n",
        "v[\"dW2\"] = \n",
        "[[ 0.  0.  0.]\n",
        " [ 0.  0.  0.]\n",
        " [ 0.  0.  0.]]\n",
        "v[\"db2\"] = \n",
        "[[ 0.]\n",
        " [ 0.]\n",
        " [ 0.]]\n",
        "s[\"dW1\"] = \n",
        "[[ 0.  0.  0.]\n",
        " [ 0.  0.  0.]]\n",
        "s[\"db1\"] = \n",
        "[[ 0.]\n",
        " [ 0.]]\n",
        "s[\"dW2\"] = \n",
        "[[ 0.  0.  0.]\n",
        " [ 0.  0.  0.]\n",
        " [ 0.  0.  0.]]\n",
        "s[\"db2\"] = \n",
        "[[ 0.]\n",
        " [ 0.]\n",
        " [ 0.]]\n",
        "```"
      ]
    },
    {
      "cell_type": "markdown",
      "metadata": {
        "id": "5TmIvGIsmXVF"
      },
      "source": [
        "###6.2 Update parameters using Adam.\n",
        "Recall the general update rule is, for $l = 1, ..., L$: \n",
        "\n",
        "$$\\begin{cases}\n",
        "v_{W^{[l]}} = \\beta_1 v_{W^{[l]}} + (1 - \\beta_1) \\frac{\\partial J }{ \\partial W^{[l]} } \\\\\n",
        "v^{corrected}_{W^{[l]}} = \\frac{v_{W^{[l]}}}{1 - (\\beta_1)^t} \\\\\n",
        "s_{W^{[l]}} = \\beta_2 s_{W^{[l]}} + (1 - \\beta_2) (\\frac{\\partial J }{\\partial W^{[l]} })^2 \\\\\n",
        "s^{corrected}_{W^{[l]}} = \\frac{s_{W^{[l]}}}{1 - (\\beta_2)^t} \\\\\n",
        "W^{[l]} = W^{[l]} - \\alpha \\frac{v^{corrected}_{W^{[l]}}}{\\sqrt{s^{corrected}_{W^{[l]}}}+\\varepsilon}\n",
        "\\end{cases}$$\n",
        "\n",
        "**Note** that the iterator `l` starts at 0 in the `for` loop while the first parameters are $W^{[1]}$ and $b^{[1]}$. You need to shift `l` to `l+1` when coding."
      ]
    },
    {
      "cell_type": "code",
      "metadata": {
        "id": "uuR0jGIvm1F_"
      },
      "source": [
        "# GRADED FUNCTION: update_parameters_with_adam\n",
        "\n",
        "def update_parameters_with_adam(parameters, grads, v, s, t, learning_rate = 0.01,\n",
        "                                beta1 = 0.9, beta2 = 0.999,  epsilon = 1e-8):\n",
        "    \"\"\"\n",
        "    Update parameters using Adam\n",
        "    \n",
        "    Arguments:\n",
        "    parameters -- python dictionary containing your parameters:\n",
        "                    parameters['W' + str(l)] = Wl\n",
        "                    parameters['b' + str(l)] = bl\n",
        "    grads -- python dictionary containing your gradients for each parameters:\n",
        "                    grads['dW' + str(l)] = dWl\n",
        "                    grads['db' + str(l)] = dbl\n",
        "    v -- Adam variable, moving average of the first gradient, python dictionary\n",
        "    s -- Adam variable, moving average of the squared gradient, python dictionary\n",
        "    learning_rate -- the learning rate, scalar.\n",
        "    beta1 -- Exponential decay hyperparameter for the first moment estimates \n",
        "    beta2 -- Exponential decay hyperparameter for the second moment estimates \n",
        "    epsilon -- hyperparameter preventing division by zero in Adam updates\n",
        "\n",
        "    Returns:\n",
        "    parameters -- python dictionary containing your updated parameters \n",
        "    v -- Adam variable, moving average of the first gradient, python dictionary\n",
        "    s -- Adam variable, moving average of the squared gradient, python dictionary\n",
        "    \"\"\"\n",
        "    \n",
        "    L = len(parameters) // 2                 # number of layers in the neural networks\n",
        "    v_corrected = {}                         # Initializing first moment estimate, python dictionary\n",
        "    s_corrected = {}                         # Initializing second moment estimate, python dictionary\n",
        "    \n",
        "    # Perform Adam update on all parameters\n",
        "    for l in range(L):\n",
        "        # Moving average of the gradients. Inputs: \"v, grads, beta1\". Output: \"v\".\n",
        "        ### START CODE HERE ### (approx. 2 lines)\n",
        "        v[\"dW\" + str(l+1)] = beta1*v[\"dW\" + str(l+1)] + (1 - beta1) * grads[\"dW\" + str(l+1)]\n",
        "        v[\"db\" + str(l+1)] = beta1*v[\"db\" + str(l+1)] + (1 - beta1) * grads[\"db\" + str(l+1)]\n",
        "        ### END CODE HERE ###\n",
        "\n",
        "        # Compute bias-corrected first moment estimate. Inputs: \"v, beta1, t\". Output: \"v_corrected\".\n",
        "        ### START CODE HERE ### (approx. 2 lines)\n",
        "        v_corrected[\"dW\" + str(l+1)] = v[\"dW\" + str(l+1)] / (1 - (beta1)**t)\n",
        "        v_corrected[\"db\" + str(l+1)] = v[\"db\" + str(l+1)] / (1 - (beta1)**t)\n",
        "        ### END CODE HERE ###\n",
        "\n",
        "        # Moving average of the squared gradients. Inputs: \"s, grads, beta2\". Output: \"s\".\n",
        "        ### START CODE HERE ### (approx. 2 lines)\n",
        "        s[\"dW\" + str(l+1)] = beta2*s[\"dW\" + str(l+1)] + (1 - beta2) * (grads[\"dW\" + str(l+1)]**2)\n",
        "        s[\"db\" + str(l+1)] = beta2*s[\"db\" + str(l+1)] + (1 - beta2) * (grads[\"db\" + str(l+1)]**2)\n",
        "        ### END CODE HERE ###\n",
        "\n",
        "        # Compute bias-corrected second raw moment estimate. Inputs: \"s, beta2, t\". Output: \"s_corrected\".\n",
        "        ### START CODE HERE ### (approx. 2 lines)\n",
        "        s_corrected[\"dW\" + str(l+1)] = s[\"dW\" + str(l+1)] / (1 - (beta2)**t)\n",
        "        s_corrected[\"db\" + str(l+1)] = s[\"db\" + str(l+1)] / (1 - (beta2)**t)\n",
        "        ### END CODE HERE ###\n",
        "\n",
        "        # Update parameters. Inputs: \"parameters, learning_rate, v_corrected, s_corrected, epsilon\". Output: \"parameters\".\n",
        "        ### START CODE HERE ### (approx. 2 lines)\n",
        "        parameters[\"W\" + str(l+1)] = parameters[\"W\" + str(l+1)] - learning_rate * (np.divide(v_corrected[\"dW\" + str(l+1)],(np.sqrt(s[\"dW\" + str(l+1)]) + epsilon))) \n",
        "        parameters[\"b\" + str(l+1)] = parameters[\"b\" + str(l+1)] - learning_rate * (np.divide(v_corrected[\"db\" + str(l+1)],(np.sqrt(s[\"db\" + str(l+1)]) + epsilon)))\n",
        "        ### END CODE HERE ###\n",
        "\n",
        "    return parameters, v, s"
      ],
      "execution_count": null,
      "outputs": []
    },
    {
      "cell_type": "code",
      "metadata": {
        "id": "m8ahaWWcm-uK"
      },
      "source": [
        "parameters, grads, v, s = update_parameters_with_adam_test_case()\n",
        "parameters, v, s  = update_parameters_with_adam(parameters, grads, v, s, t = 2)\n",
        "\n",
        "print(\"W1 = \\n\" + str(parameters[\"W1\"]))\n",
        "print(\"b1 = \\n\" + str(parameters[\"b1\"]))\n",
        "print(\"W2 = \\n\" + str(parameters[\"W2\"]))\n",
        "print(\"b2 = \\n\" + str(parameters[\"b2\"]))\n",
        "print(\"v[\\\"dW1\\\"] = \\n\" + str(v[\"dW1\"]))\n",
        "print(\"v[\\\"db1\\\"] = \\n\" + str(v[\"db1\"]))\n",
        "print(\"v[\\\"dW2\\\"] = \\n\" + str(v[\"dW2\"]))\n",
        "print(\"v[\\\"db2\\\"] = \\n\" + str(v[\"db2\"]))\n",
        "print(\"s[\\\"dW1\\\"] = \\n\" + str(s[\"dW1\"]))\n",
        "print(\"s[\\\"db1\\\"] = \\n\" + str(s[\"db1\"]))\n",
        "print(\"s[\\\"dW2\\\"] = \\n\" + str(s[\"dW2\"]))\n",
        "print(\"s[\\\"db2\\\"] = \\n\" + str(s[\"db2\"]))"
      ],
      "execution_count": null,
      "outputs": []
    },
    {
      "cell_type": "markdown",
      "metadata": {
        "id": "RbbKAGv1nFHL"
      },
      "source": [
        "**Expected Output**:\n",
        "\n",
        "```\n",
        "W1 = \n",
        "[[ 1.63178673 -0.61919778 -0.53561312]\n",
        " [-1.08040999  0.85796626 -2.29409733]]\n",
        "b1 = \n",
        "[[ 1.75225313]\n",
        " [-0.75376553]]\n",
        "W2 = \n",
        "[[ 0.32648046 -0.25681174  1.46954931]\n",
        " [-2.05269934 -0.31497584 -0.37661299]\n",
        " [ 1.14121081 -1.09245036 -0.16498684]]\n",
        "b2 = \n",
        "[[-0.88529978]\n",
        " [ 0.03477238]\n",
        " [ 0.57537385]]\n",
        "v[\"dW1\"] = \n",
        "[[-0.11006192  0.11447237  0.09015907]\n",
        " [ 0.05024943  0.09008559 -0.06837279]]\n",
        "v[\"db1\"] = \n",
        "[[-0.01228902]\n",
        " [-0.09357694]]\n",
        "v[\"dW2\"] = \n",
        "[[-0.02678881  0.05303555 -0.06916608]\n",
        " [-0.03967535 -0.06871727 -0.08452056]\n",
        " [-0.06712461 -0.00126646 -0.11173103]]\n",
        "v[\"db2\"] = \n",
        "[[ 0.02344157]\n",
        " [ 0.16598022]\n",
        " [ 0.07420442]]\n",
        "s[\"dW1\"] = \n",
        "[[ 0.00121136  0.00131039  0.00081287]\n",
        " [ 0.0002525   0.00081154  0.00046748]]\n",
        "s[\"db1\"] = \n",
        "[[  1.51020075e-05]\n",
        " [  8.75664434e-04]]\n",
        "s[\"dW2\"] = \n",
        "[[  7.17640232e-05   2.81276921e-04   4.78394595e-04]\n",
        " [  1.57413361e-04   4.72206320e-04   7.14372576e-04]\n",
        " [  4.50571368e-04   1.60392066e-07   1.24838242e-03]]\n",
        "s[\"db2\"] = \n",
        "[[  5.49507194e-05]\n",
        " [  2.75494327e-03]\n",
        " [  5.50629536e-04]]\n",
        "```"
      ]
    },
    {
      "cell_type": "markdown",
      "metadata": {
        "id": "SpCfoRoI8Uc3"
      },
      "source": [
        "## 7 - Putting Together the Model\n",
        "\n",
        "You now have all the functions required for building a deep neural network with different types of optimization! We will put all these together to build an L-layer neural network to see how the network works on the dog/not dog data. Code for implementing minibatches is already included in the model."
      ]
    },
    {
      "cell_type": "markdown",
      "metadata": {
        "id": "GetFnCyijt2a"
      },
      "source": [
        "###7.1 Mini-batch Processing\n",
        "Using mini-batches can speed up training by allowing the system to learn more often. Note the permutation processing to be sure that the ordering of the data is varied for each epoch."
      ]
    },
    {
      "cell_type": "code",
      "metadata": {
        "id": "pMYuP4xYXzSm"
      },
      "source": [
        "def random_mini_batches(X, Y, mini_batch_size = 64, seed = 0):\n",
        "    \"\"\"\n",
        "    Creates a list of random minibatches from (X, Y)\n",
        "    \n",
        "    Arguments:\n",
        "    X -- input data, of shape (input size, number of examples)\n",
        "    Y -- true \"label\" vector (1 for blue dot / 0 for red dot), of shape (1, number of examples)\n",
        "    mini_batch_size -- size of the mini-batches, integer\n",
        "    \n",
        "    Returns:\n",
        "    mini_batches -- list of synchronous (mini_batch_X, mini_batch_Y)\n",
        "    \"\"\"\n",
        "    \n",
        "    np.random.seed(seed)            # To make your \"random\" minibatches the same as ours\n",
        "    m = X.shape[1]                  # number of training examples\n",
        "    mini_batches = []\n",
        "        \n",
        "    # Step 1: Shuffle (X, Y)\n",
        "    permutation = list(np.random.permutation(m))\n",
        "    shuffled_X = X[:, permutation]\n",
        "    shuffled_Y = Y[:, permutation].reshape((1,m))\n",
        "\n",
        "    # Step 2: Partition (shuffled_X, shuffled_Y). Minus the end case.\n",
        "    num_complete_minibatches = math.floor(m/mini_batch_size) # number of mini batches of size mini_batch_size in your partitionning\n",
        "    for k in range(0, num_complete_minibatches):\n",
        "        mini_batch_X = shuffled_X[:, k * mini_batch_size : (k+1) * mini_batch_size]\n",
        "        mini_batch_Y = shuffled_Y[:, k * mini_batch_size : (k+1) * mini_batch_size]\n",
        "        mini_batch = (mini_batch_X, mini_batch_Y)\n",
        "        mini_batches.append(mini_batch)\n",
        "    \n",
        "    # Handling the end case (last mini-batch < mini_batch_size)\n",
        "    if m % mini_batch_size != 0:\n",
        "        mini_batch_X =shuffled_X[:, (k+1) * mini_batch_size : m]\n",
        "        mini_batch_Y = shuffled_Y[:, (k+1) * mini_batch_size : m]\n",
        "        mini_batch = (mini_batch_X, mini_batch_Y)\n",
        "        mini_batches.append(mini_batch)\n",
        "    \n",
        "    return mini_batches"
      ],
      "execution_count": null,
      "outputs": []
    },
    {
      "cell_type": "markdown",
      "metadata": {
        "id": "UbIw0kHnkOfS"
      },
      "source": [
        "###7.2 The Model network\n",
        "\n",
        "This function puts all the pieces of the model together for you so that you can try different parameter sets to optimize performance."
      ]
    },
    {
      "cell_type": "code",
      "metadata": {
        "id": "-XnkWKsz8rp4"
      },
      "source": [
        "from sklearn.model_selection import train_test_split\n",
        "\n",
        "def model(X, Y, layers_dims, updater, learning_rate = 0.0075, num_epochs = 3000, val=0.3,\n",
        "                  early_stopping = False, lambd = 0, mini_batch_size = 0, beta = 0.9, beta1=0.9, beta2=0.999,\n",
        "                   epsilon = 1e-3, print_cost=False):\n",
        "    \"\"\"\n",
        "    Implements a L-layer neural network: [LINEAR->RELU]*(L-1)->LINEAR->SIGMOID.\n",
        "    \n",
        "    Arguments:\n",
        "    X -- data, numpy array of shape (num_px * num_px * 3, number of examples)\n",
        "    Y -- true \"label\" vector (containing 0 if cat, 1 if non-cat), of shape (1, number of examples)\n",
        "    updater -- selects type of updater to use, \"gd\" gradient descent, \"momentum\", \"adam\"\n",
        "    layers_dims -- list containing the input size and each layer size, of length (number of layers + 1).\n",
        "    learning_rate -- learning rate of the gradient descent update rule\n",
        "    num_epochs -- number of iterations of the optimization loop per epoch\n",
        "    lambd -- penalty term for L2 regularization\n",
        "    mini_batch -- size of mini-batch, if zero, use the whole input data set\n",
        "    beta -- exponential average weighting parameter for using momentum, must be between 0 and 1\n",
        "    print_cost -- if True, it prints the cost every 100 steps\n",
        "    \n",
        "    Returns:\n",
        "    parameters -- parameters learnt by the model. They can then be used to predict.\n",
        "    \"\"\"\n",
        "\n",
        "    if early_stopping != False:\n",
        "      #Initializing validation set for early stopping\n",
        "      training,validation,training_Y,validation_Y = train_test_split(X.T, Y.T, test_size = val, random_state = 1)\n",
        "      validation_data_size = validation.shape[1]\n",
        "      X = training.T\n",
        "      Y = training_Y.T\n",
        "      validation = validation.T\n",
        "      validation_Y = validation_Y.T\n",
        "\n",
        "\n",
        "    np.random.seed(1)\n",
        "    costs = []                         # keep track of cost\n",
        "    t = 0                            # initializing the counter required for Adam update\n",
        "    seed = 10                        # For grading purposes, so that your \"random\" minibatches are the same as ours\n",
        "    m = X.shape[1]                   # number of training examples\n",
        "\n",
        "    # Parameters initialization. \n",
        "    parameters = initialize_parameters_deep_he(layers_dims)\n",
        "    \n",
        "    # Initialize the updater\n",
        "    if updater == \"gd\":\n",
        "        pass # no initialization required for gradient descent\n",
        "    elif updater == \"regularization\":\n",
        "        pass # no initialization required for regularization\n",
        "    elif updater == \"momentum\":\n",
        "        v = initialize_momentum(parameters)\n",
        "    elif updater == \"adam\":\n",
        "        v, s = initialize_adam(parameters)\n",
        "\n",
        "\n",
        "    prev_validation_cost = 100\n",
        "\n",
        "    # Optimization loop\n",
        "    for i in range(num_epochs):\n",
        "        \n",
        "        # Define the random minibatches. We increment the seed to reshuffle the dataset differently after each epoch\n",
        "        seed = seed + 1\n",
        "        minibatches = random_mini_batches(X, Y, mini_batch_size, seed)\n",
        "        cost_total = 0\n",
        "        validation_cost_total = 0\n",
        "        \n",
        "        for minibatch in minibatches:\n",
        "\n",
        "            # Select a minibatch\n",
        "            (minibatch_X, minibatch_Y) = minibatch\n",
        "\n",
        "            # Forward propagation\n",
        "            AL, caches = L_model_forward(minibatch_X, parameters)\n",
        "\n",
        "            # Compute cost and add to the cost total\n",
        "            cost_total += compute_cost_regularization(AL, minibatch_Y, parameters, lambd)\n",
        "\n",
        "            \n",
        "\n",
        "            # Backward propagation\n",
        "            grads = L_model_backward(AL, minibatch_Y, caches)\n",
        "\n",
        "            # Update parameters\n",
        "            if updater == \"gd\":\n",
        "                parameters = update_parameters_with_gd(parameters, grads, learning_rate)\n",
        "            elif updater == \"regularization\":\n",
        "                parameters = update_parameters_with_regularization(parameters, grads, learning_rate, lambd/m)\n",
        "            elif updater == \"momentum\":\n",
        "                parameters, v = update_parameters_with_momentum(parameters, grads, v, beta, learning_rate)\n",
        "            elif updater == \"adam\":\n",
        "                t = t + 1 # Adam counter\n",
        "                parameters, v, s = update_parameters_with_adam(parameters, grads, v, s,\n",
        "                                                               t, learning_rate, beta1, beta2,  epsilon)\n",
        "        cost_avg = cost_total / m\n",
        "\n",
        "        if early_stopping != False:\n",
        "          # Validation set Forward Propagation\n",
        "          AL_val, caches_val = L_model_forward(validation, parameters)\n",
        "\n",
        "          # Compute cost of validation data\n",
        "          validation_cost_total = compute_cost(AL_val, validation_Y)\n",
        "\n",
        "        # Print the cost every 100 epoch\n",
        "        if print_cost and i % 100 == 0:\n",
        "            print (\"Cost after epoch %i: %f\" %(i, cost_avg))\n",
        "            \n",
        "            if early_stopping != False:\n",
        "              print (\"Validation cost after epoch %i: %f\" %(i, validation_cost_total))\n",
        "              if (validation_cost_total - cost_avg) > prev_validation_cost:\n",
        "                print (\"Early stopping because data is overfitting...\")\n",
        "                break\n",
        "        if print_cost and i % 100 == 0:\n",
        "            costs.append(cost_avg)\n",
        "        \n",
        "        prev_validation_cost = validation_cost_total - cost_avg\n",
        "                \n",
        "    # plot the cost\n",
        "    plt.plot(costs)\n",
        "    plt.ylabel('cost')\n",
        "    plt.xlabel('epochs (per 100)')\n",
        "    plt.title(\"Learning rate = \" + str(learning_rate))\n",
        "    plt.show()\n",
        "\n",
        "    return parameters"
      ],
      "execution_count": null,
      "outputs": []
    },
    {
      "cell_type": "markdown",
      "metadata": {
        "id": "GWnsBPeL-CXZ"
      },
      "source": [
        "###7.3 Test Cases\n",
        "You will now train the model as a 4-layer neural network. Once you have verified that the model is working, it will be a good time to go to the runtime menu and change the Runtime Type to GPU. It will reset your connection to your Google Drive and you will have to remount the drive. However, it will speed up your runs by quite a bit.\n",
        "\n",
        "Run the cell below to train your model. The cost should decrease on every iteration. It may take up to 5 minutes to run 2001 iterations. Check if the \"Cost after iteration 0\" matches the expected output below, if not click on the square (⬛) on the upper bar of the notebook to stop the cell and try to find your error."
      ]
    },
    {
      "cell_type": "markdown",
      "metadata": {
        "id": "lM1taQ50ivzz"
      },
      "source": [
        ""
      ]
    },
    {
      "cell_type": "code",
      "metadata": {
        "id": "6dC7wPwHiy0s"
      },
      "source": [
        "# Set the dimensions of each layer\n",
        "layers_dims = [3072, 40, 30, 20, 1] #  4-layer model\n",
        "\n",
        "# Use momentum to speed up training\n",
        "parameters_mo = model(train_set_x, y_train, layers_dims,updater=\"momentum\",learning_rate = 0.01, num_epochs = 2001, val=0.3,\n",
        "                  early_stopping = False, lambd = 0, mini_batch_size = 256, beta = 0.9, beta1=0.9, beta2=0.999,\n",
        "                   epsilon = 1e-3, print_cost=True)\n",
        "\n",
        "ptrain = predict(train_set_x, y_train,parameters_mo)\n",
        "ptest = predict(test_set_x, y_test,parameters_mo)"
      ],
      "execution_count": null,
      "outputs": []
    },
    {
      "cell_type": "code",
      "metadata": {
        "id": "oOfkrWrzjW73"
      },
      "source": [
        "# Use Adam to speed up training\n",
        "# Note that it is only running a short time before getting perfect training set accuracy. \n",
        "#At that point it becomes numerically unstable.\n",
        "# Set the dimensions of each layer\n",
        "layers_dims = [3072, 20, 20, 20, 1] #  4-layer model\n",
        "\n",
        "parameters_ad = model(train_set_x, y_train, layers_dims,updater=\"adam\",learning_rate = 0.001, num_epochs = 101, val = 0.3,\n",
        "                  early_stopping=False, lambd = 0, mini_batch_size = 256, beta = 0.9, beta1=0.9, beta2=0.999,\n",
        "                   epsilon = 1e-3, print_cost=True)\n",
        "\n",
        "ptrain = predict(train_set_x, y_train,parameters_ad)\n",
        "ptest = predict(test_set_x, y_test,parameters_ad)"
      ],
      "execution_count": null,
      "outputs": []
    },
    {
      "cell_type": "code",
      "metadata": {
        "id": "OcCeE3bN91xQ"
      },
      "source": [
        "# Set the dimensions of each layer\n",
        "layers_dims = [3072, 40, 30, 20, 1] #  4-layer model\n",
        "\n",
        "# Use regularization to improve overfitting\n",
        "parameters_reg = model(train_set_x, y_train, layers_dims,updater=\"regularization\",learning_rate = 0.001, num_epochs = 2001, val = 0.3, \n",
        "                   lambd = 0.2, mini_batch_size = 500, beta = 0, beta1=0.9, beta2=0.999,\n",
        "                   epsilon = 1e-3, print_cost=True)\n",
        "\n",
        "ptrain_reg = predict(train_set_x, y_train,parameters_reg)\n",
        "ptest_reg = predict(test_set_x, y_test,parameters_reg)"
      ],
      "execution_count": null,
      "outputs": []
    },
    {
      "cell_type": "markdown",
      "metadata": {
        "id": "sXb6Qscukbj0"
      },
      "source": [
        "\n",
        "## 8 - Testing the network on dog/not dog case\n",
        "\n",
        "Congrats on implementing all the functions required for adding in momentum, Adam and regularization into your network. We will put all these together to build an L-layer neural network to see how the network works on the dog/not dog data. Use the provided function, *print_mislabeled_images* to look at what test images were classified incorrectly.\n"
      ]
    },
    {
      "cell_type": "code",
      "metadata": {
        "id": "2uR20y8pq1LO"
      },
      "source": [
        "def print_mislabeled_images(X, y, p, show=\"fp\"):\n",
        "    \"\"\"\n",
        "    Plots images where predictions and truth were different.\n",
        "    X -- dataset\n",
        "    y -- true labels\n",
        "    p -- predictions\n",
        "    show -- string, if \"fp\" shows false positives, if \"fn\" false negatives\n",
        "    \"\"\"\n",
        "    a = y-p\n",
        "    mislabeled_indices_fn = np.asarray(np.where(a == 1))\n",
        "    mislabeled_indices_fp = np.asarray(np.where(a == -1))\n",
        "    plt.rcParams['figure.figsize'] = (40.0, 40.0) # set default size of plots\n",
        "    num_images_fp = len(mislabeled_indices_fp[0])\n",
        "    num_images_fn = len(mislabeled_indices_fn[0])\n",
        "    X = X.T\n",
        "    x_test_show = X.reshape((X.shape[0],3,32,32)).transpose(0,2,3,1)\n",
        "    num_images = num_images_fp\n",
        "    mislabeled_indices = mislabeled_indices_fp\n",
        "    if show ==\"fn\":\n",
        "      num_images = num_images_fn\n",
        "      mislabeled_indices = mislabeled_indices_fn\n",
        "\n",
        "    for i in range(num_images):\n",
        "        index = mislabeled_indices[1][i]\n",
        "        \n",
        "        plt.subplot(2, num_images, i + 1)\n",
        "        plt.imshow(x_test_show[index,:,:,:], interpolation='nearest')\n",
        "        \n",
        "        plt.axis('off')\n",
        "\n",
        "    return mislabeled_indices_fn, mislabeled_indices_fp, num_images_fn, num_images_fp"
      ],
      "execution_count": null,
      "outputs": []
    },
    {
      "cell_type": "code",
      "metadata": {
        "id": "4W6gPubhrEBP"
      },
      "source": [
        "\n",
        "indices_fn, indices_fp,  num_fn, num_fp = print_mislabeled_images(x_test,y_test,ptest_reg,show =\"fn\")"
      ],
      "execution_count": null,
      "outputs": []
    },
    {
      "cell_type": "code",
      "metadata": {
        "id": "ZZw9gc5uz2f8"
      },
      "source": [
        "print(indices_fn)\n",
        "print(indices_fp)"
      ],
      "execution_count": null,
      "outputs": []
    },
    {
      "cell_type": "markdown",
      "metadata": {
        "id": "Xikm_0ctlGpU"
      },
      "source": [
        "##9 Questions and other things to try\n",
        "\n",
        "1. Given the three different options above, analyze the results and figure out if the system has a bias problem or a variance problem. Describe what strategy you might follow to improve your results.\n",
        "\n",
        "2. Implement your strategy to see if you can improve on my results from section 7.3 with the test cases. Give a table of parameters that you tried together with the results. Run at least 5 different options. \n",
        "\n",
        "3. What types of test images are misclassified in your best version of the system? Do they have anything in common?\n",
        "\n",
        "\n",
        "\n",
        "---\n",
        "\n",
        "\n",
        "\n",
        "---\n",
        "**Answer:**\n",
        "\n",
        "1. The default model is underfitting the data a little bit. From my experiments, I was able to achieve better test accuracy (78% with momentum in one case. The default model accuracy for momentum was around 73.5% in comparison) for a larger model. So, It was a high bias problem. But, once a sufficiently complex model is used, the model starts overfitting the data and the test accuracy drops. \n",
        "To handle the slight underfitting of data, we can try to increase the complexity of the model a bit. I have added more neurons on all layers and also tried adding a new layer. Unless the model is too complex, this fits the data well.\n",
        "But to handle the overfitting that results after increasing the complexity of the model a lot, we need to use techniques like early stopping, drop out, adding additional training data, regularization term etc.\n",
        "\n",
        "2. I have done 17 experiments by changing 7 different hyper parameters to first reduce the underfitting, then improve the generalization by using bigger minibatch sizes, smaller lambda and more neurons. I have also implemented an early stopping technique in the code above (Controlled by the variables early_stopping and val ) for controlling overfitting.  Below are the results of my experiments:\n",
        "\n",
        "![image.png](data:image/png;base64,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)\n",
        "\n",
        "\n",
        "The best performing model had a test accuracy of 79% and training accuracy of 98.1%\n",
        "\n",
        "\n",
        "3. On my best performing model, there were few false positives and false negatives. In the false positives, there were many dog-like animals like horses, cats, deers which is probably because of their similar snouts, color and other features. There were also some cars and aeroplanes which were falsely classified as dogs. This is probably due to noise in the image (possibly added?).The false negatives were dogs whose pictures were not clear, overexposed, small cat-like dogs and dogs not properly in the frame etc."
      ]
    }
  ]
}